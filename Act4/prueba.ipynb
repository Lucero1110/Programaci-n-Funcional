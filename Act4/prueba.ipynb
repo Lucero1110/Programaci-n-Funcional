{
 "cells": [
  {
   "cell_type": "code",
   "execution_count": 3,
   "metadata": {},
   "outputs": [],
   "source": [
    "#Importamos las librerias pandas, numpy y matplotlib respectivamente\n",
    "import pandas as pd\n",
    "import numpy as np\n",
    "import matplotlib.pyplot as plt\n",
    "import os\n",
    "import funlu as fl"
   ]
  },
  {
   "cell_type": "markdown",
   "metadata": {},
   "source": [
    "Función de caragar archivos:\n",
    "se manda a llamar la función y va leyenod que tipo de archivo es (csv, xlsx, json, html), para que despliegue la infomación."
   ]
  },
  {
   "cell_type": "code",
   "execution_count": 4,
   "metadata": {},
   "outputs": [
    {
     "name": "stdout",
     "output_type": "stream",
     "text": [
      "<class 'pandas.core.frame.DataFrame'>\n",
      "RangeIndex: 14642 entries, 0 to 14641\n",
      "Data columns (total 51 columns):\n",
      " #   Column                                        Non-Null Count  Dtype  \n",
      "---  ------                                        --------------  -----  \n",
      " 0   Unnamed: 0                                    14642 non-null  int64  \n",
      " 1   id                                            14642 non-null  int64  \n",
      " 2   last_scraped                                  14642 non-null  object \n",
      " 3   source                                        14642 non-null  object \n",
      " 4   host_id                                       14642 non-null  int64  \n",
      " 5   host_response_time                            12903 non-null  object \n",
      " 6   host_response_rate                            12903 non-null  object \n",
      " 7   host_acceptance_rate                          13811 non-null  object \n",
      " 8   host_is_superhost                             13868 non-null  object \n",
      " 9   host_listings_count                           14642 non-null  int64  \n",
      " 10  host_total_listings_count                     14642 non-null  int64  \n",
      " 11  host_verifications                            14642 non-null  object \n",
      " 12  neighbourhood                                 7698 non-null   object \n",
      " 13  latitude                                      14642 non-null  float64\n",
      " 14  longitude                                     14642 non-null  float64\n",
      " 15  property_type                                 14642 non-null  object \n",
      " 16  room_type                                     14642 non-null  object \n",
      " 17  accommodates                                  14642 non-null  int64  \n",
      " 18  bathrooms                                     13717 non-null  float64\n",
      " 19  bedrooms                                      14559 non-null  float64\n",
      " 20  beds                                          13693 non-null  float64\n",
      " 21  amenities                                     14642 non-null  object \n",
      " 22  price                                         13722 non-null  object \n",
      " 23  minimum_nights                                14642 non-null  int64  \n",
      " 24  maximum_nights                                14642 non-null  int64  \n",
      " 25  minimum_minimum_nights                        14642 non-null  int64  \n",
      " 26  maximum_minimum_nights                        14642 non-null  int64  \n",
      " 27  minimum_maximum_nights                        14642 non-null  int64  \n",
      " 28  maximum_maximum_nights                        14642 non-null  int64  \n",
      " 29  minimum_nights_avg_ntm                        14642 non-null  float64\n",
      " 30  maximum_nights_avg_ntm                        14642 non-null  float64\n",
      " 31  availability_30                               14642 non-null  int64  \n",
      " 32  availability_60                               14642 non-null  int64  \n",
      " 33  availability_90                               14642 non-null  int64  \n",
      " 34  availability_365                              14642 non-null  int64  \n",
      " 35  number_of_reviews                             14642 non-null  int64  \n",
      " 36  number_of_reviews_ltm                         14642 non-null  int64  \n",
      " 37  number_of_reviews_l30d                        14642 non-null  int64  \n",
      " 38  review_scores_rating                          12329 non-null  float64\n",
      " 39  review_scores_accuracy                        12329 non-null  float64\n",
      " 40  review_scores_cleanliness                     12329 non-null  float64\n",
      " 41  review_scores_checkin                         12329 non-null  float64\n",
      " 42  review_scores_communication                   12329 non-null  float64\n",
      " 43  review_scores_location                        12329 non-null  float64\n",
      " 44  review_scores_value                           12329 non-null  float64\n",
      " 45  license                                       14448 non-null  object \n",
      " 46  calculated_host_listings_count                14642 non-null  int64  \n",
      " 47  calculated_host_listings_count_entire_homes   14642 non-null  int64  \n",
      " 48  calculated_host_listings_count_private_rooms  14642 non-null  int64  \n",
      " 49  calculated_host_listings_count_shared_rooms   14642 non-null  int64  \n",
      " 50  reviews_per_month                             12329 non-null  float64\n",
      "dtypes: float64(15), int64(23), object(13)\n",
      "memory usage: 5.7+ MB\n"
     ]
    }
   ],
   "source": [
    "df = fl.cargar_dataset('Athenas_Grecia_Dt.csv')\n",
    "df.info()"
   ]
  },
  {
   "cell_type": "markdown",
   "metadata": {},
   "source": [
    "La función de cuenta_valores_nulos, nos muestra cuantos valores nulos hay de cada columna y en total"
   ]
  },
  {
   "cell_type": "code",
   "execution_count": 4,
   "metadata": {},
   "outputs": [
    {
     "data": {
      "text/plain": [
       "('Valores nulos por columna',\n",
       " Unnamed: 0                                         0\n",
       " id                                                 0\n",
       " last_scraped                                       0\n",
       " source                                             0\n",
       " host_id                                            0\n",
       " host_response_time                              1739\n",
       " host_response_rate                              1739\n",
       " host_acceptance_rate                             831\n",
       " host_is_superhost                                774\n",
       " host_listings_count                                0\n",
       " host_total_listings_count                          0\n",
       " host_verifications                                 0\n",
       " neighbourhood                                   6944\n",
       " latitude                                           0\n",
       " longitude                                          0\n",
       " property_type                                      0\n",
       " room_type                                          0\n",
       " accommodates                                       0\n",
       " bathrooms                                        925\n",
       " bedrooms                                          83\n",
       " beds                                             949\n",
       " amenities                                          0\n",
       " price                                            920\n",
       " minimum_nights                                     0\n",
       " maximum_nights                                     0\n",
       " minimum_minimum_nights                             0\n",
       " maximum_minimum_nights                             0\n",
       " minimum_maximum_nights                             0\n",
       " maximum_maximum_nights                             0\n",
       " minimum_nights_avg_ntm                             0\n",
       " maximum_nights_avg_ntm                             0\n",
       " availability_30                                    0\n",
       " availability_60                                    0\n",
       " availability_90                                    0\n",
       " availability_365                                   0\n",
       " number_of_reviews                                  0\n",
       " number_of_reviews_ltm                              0\n",
       " number_of_reviews_l30d                             0\n",
       " review_scores_rating                            2313\n",
       " review_scores_accuracy                          2313\n",
       " review_scores_cleanliness                       2313\n",
       " review_scores_checkin                           2313\n",
       " review_scores_communication                     2313\n",
       " review_scores_location                          2313\n",
       " review_scores_value                             2313\n",
       " license                                          194\n",
       " calculated_host_listings_count                     0\n",
       " calculated_host_listings_count_entire_homes        0\n",
       " calculated_host_listings_count_private_rooms       0\n",
       " calculated_host_listings_count_shared_rooms        0\n",
       " reviews_per_month                               2313\n",
       " dtype: int64,\n",
       " 'Valores nulos por dataframe',\n",
       " np.int64(33602))"
      ]
     },
     "execution_count": 4,
     "metadata": {},
     "output_type": "execute_result"
    }
   ],
   "source": [
    "fl.cuenta_valores_nulos(df)"
   ]
  },
  {
   "cell_type": "markdown",
   "metadata": {},
   "source": [
    "## Funciones de sustitución generales"
   ]
  },
  {
   "cell_type": "markdown",
   "metadata": {},
   "source": [
    "La primera función de sustitución es con ffill y es para los datos de tipo: cualitativo"
   ]
  },
  {
   "cell_type": "code",
   "execution_count": 5,
   "metadata": {},
   "outputs": [
    {
     "name": "stderr",
     "output_type": "stream",
     "text": [
      "c:\\Users\\Lenovo\\OneDrive\\Escritorio\\Profe alfredo\\4_Funciones\\funlu.py:38: FutureWarning: DataFrame.fillna with 'method' is deprecated and will raise in a future version. Use obj.ffill() or obj.bfill() instead.\n",
      "  cualitativas = cualitativas.fillna(method='ffill')\n"
     ]
    },
    {
     "data": {
      "text/plain": [
       "('Valores nulos por columna',\n",
       " Unnamed: 0                                         0\n",
       " id                                                 0\n",
       " host_id                                            0\n",
       " host_listings_count                                0\n",
       " host_total_listings_count                          0\n",
       " latitude                                           0\n",
       " longitude                                          0\n",
       " accommodates                                       0\n",
       " bathrooms                                        925\n",
       " bedrooms                                          83\n",
       " beds                                             949\n",
       " minimum_nights                                     0\n",
       " maximum_nights                                     0\n",
       " minimum_minimum_nights                             0\n",
       " maximum_minimum_nights                             0\n",
       " minimum_maximum_nights                             0\n",
       " maximum_maximum_nights                             0\n",
       " minimum_nights_avg_ntm                             0\n",
       " maximum_nights_avg_ntm                             0\n",
       " availability_30                                    0\n",
       " availability_60                                    0\n",
       " availability_90                                    0\n",
       " availability_365                                   0\n",
       " number_of_reviews                                  0\n",
       " number_of_reviews_ltm                              0\n",
       " number_of_reviews_l30d                             0\n",
       " review_scores_rating                            2313\n",
       " review_scores_accuracy                          2313\n",
       " review_scores_cleanliness                       2313\n",
       " review_scores_checkin                           2313\n",
       " review_scores_communication                     2313\n",
       " review_scores_location                          2313\n",
       " review_scores_value                             2313\n",
       " calculated_host_listings_count                     0\n",
       " calculated_host_listings_count_entire_homes        0\n",
       " calculated_host_listings_count_private_rooms       0\n",
       " calculated_host_listings_count_shared_rooms        0\n",
       " reviews_per_month                               2313\n",
       " last_scraped                                       0\n",
       " source                                             0\n",
       " host_response_time                                 0\n",
       " host_response_rate                                 0\n",
       " host_acceptance_rate                               0\n",
       " host_is_superhost                                  0\n",
       " host_verifications                                 0\n",
       " neighbourhood                                      3\n",
       " property_type                                      0\n",
       " room_type                                          0\n",
       " amenities                                          0\n",
       " price                                              0\n",
       " license                                            0\n",
       " dtype: int64,\n",
       " 'Valores nulos por dataframe',\n",
       " np.int64(20464))"
      ]
     },
     "execution_count": 5,
     "metadata": {},
     "output_type": "execute_result"
    }
   ],
   "source": [
    "df1 = fl.sustitución_ffill(df)\n",
    "fl.cuenta_valores_nulos(df1)"
   ]
  },
  {
   "cell_type": "markdown",
   "metadata": {},
   "source": [
    "La segunda función es para rellenar hacia atras los datos de tipo: ='object', 'datetime','category'"
   ]
  },
  {
   "cell_type": "code",
   "execution_count": 6,
   "metadata": {},
   "outputs": [
    {
     "name": "stderr",
     "output_type": "stream",
     "text": [
      "c:\\Users\\Lenovo\\OneDrive\\Escritorio\\Profe alfredo\\4_Funciones\\funlu.py:55: FutureWarning: DataFrame.fillna with 'method' is deprecated and will raise in a future version. Use obj.ffill() or obj.bfill() instead.\n",
      "  cualitativas = cualitativas.fillna(method='bfill')\n"
     ]
    },
    {
     "data": {
      "text/plain": [
       "('Valores nulos por columna',\n",
       " Unnamed: 0                                         0\n",
       " id                                                 0\n",
       " host_id                                            0\n",
       " host_listings_count                                0\n",
       " host_total_listings_count                          0\n",
       " latitude                                           0\n",
       " longitude                                          0\n",
       " accommodates                                       0\n",
       " bathrooms                                        925\n",
       " bedrooms                                          83\n",
       " beds                                             949\n",
       " minimum_nights                                     0\n",
       " maximum_nights                                     0\n",
       " minimum_minimum_nights                             0\n",
       " maximum_minimum_nights                             0\n",
       " minimum_maximum_nights                             0\n",
       " maximum_maximum_nights                             0\n",
       " minimum_nights_avg_ntm                             0\n",
       " maximum_nights_avg_ntm                             0\n",
       " availability_30                                    0\n",
       " availability_60                                    0\n",
       " availability_90                                    0\n",
       " availability_365                                   0\n",
       " number_of_reviews                                  0\n",
       " number_of_reviews_ltm                              0\n",
       " number_of_reviews_l30d                             0\n",
       " review_scores_rating                            2313\n",
       " review_scores_accuracy                          2313\n",
       " review_scores_cleanliness                       2313\n",
       " review_scores_checkin                           2313\n",
       " review_scores_communication                     2313\n",
       " review_scores_location                          2313\n",
       " review_scores_value                             2313\n",
       " calculated_host_listings_count                     0\n",
       " calculated_host_listings_count_entire_homes        0\n",
       " calculated_host_listings_count_private_rooms       0\n",
       " calculated_host_listings_count_shared_rooms        0\n",
       " reviews_per_month                               2313\n",
       " last_scraped                                       0\n",
       " source                                             0\n",
       " host_response_time                                 0\n",
       " host_response_rate                                 0\n",
       " host_acceptance_rate                               0\n",
       " host_is_superhost                                  1\n",
       " host_verifications                                 0\n",
       " neighbourhood                                      0\n",
       " property_type                                      0\n",
       " room_type                                          0\n",
       " amenities                                          0\n",
       " price                                              0\n",
       " license                                            0\n",
       " dtype: int64,\n",
       " 'Valores nulos por dataframe',\n",
       " np.int64(20462))"
      ]
     },
     "execution_count": 6,
     "metadata": {},
     "output_type": "execute_result"
    }
   ],
   "source": [
    "df2 = fl.sustitución_bfill(df)\n",
    "fl.cuenta_valores_nulos(df2)"
   ]
  },
  {
   "cell_type": "markdown",
   "metadata": {},
   "source": [
    "La tercera función es para rellenar con estrings son para los datos de tipolos datos de tipo: 'object', 'datetime','category'"
   ]
  },
  {
   "cell_type": "code",
   "execution_count": 7,
   "metadata": {},
   "outputs": [
    {
     "data": {
      "text/plain": [
       "('Valores nulos por columna',\n",
       " Unnamed: 0                                         0\n",
       " id                                                 0\n",
       " host_id                                            0\n",
       " host_listings_count                                0\n",
       " host_total_listings_count                          0\n",
       " latitude                                           0\n",
       " longitude                                          0\n",
       " accommodates                                       0\n",
       " bathrooms                                        925\n",
       " bedrooms                                          83\n",
       " beds                                             949\n",
       " minimum_nights                                     0\n",
       " maximum_nights                                     0\n",
       " minimum_minimum_nights                             0\n",
       " maximum_minimum_nights                             0\n",
       " minimum_maximum_nights                             0\n",
       " maximum_maximum_nights                             0\n",
       " minimum_nights_avg_ntm                             0\n",
       " maximum_nights_avg_ntm                             0\n",
       " availability_30                                    0\n",
       " availability_60                                    0\n",
       " availability_90                                    0\n",
       " availability_365                                   0\n",
       " number_of_reviews                                  0\n",
       " number_of_reviews_ltm                              0\n",
       " number_of_reviews_l30d                             0\n",
       " review_scores_rating                            2313\n",
       " review_scores_accuracy                          2313\n",
       " review_scores_cleanliness                       2313\n",
       " review_scores_checkin                           2313\n",
       " review_scores_communication                     2313\n",
       " review_scores_location                          2313\n",
       " review_scores_value                             2313\n",
       " calculated_host_listings_count                     0\n",
       " calculated_host_listings_count_entire_homes        0\n",
       " calculated_host_listings_count_private_rooms       0\n",
       " calculated_host_listings_count_shared_rooms        0\n",
       " reviews_per_month                               2313\n",
       " last_scraped                                       0\n",
       " source                                             0\n",
       " host_response_time                                 0\n",
       " host_response_rate                                 0\n",
       " host_acceptance_rate                               0\n",
       " host_is_superhost                                  0\n",
       " host_verifications                                 0\n",
       " neighbourhood                                      0\n",
       " property_type                                      0\n",
       " room_type                                          0\n",
       " amenities                                          0\n",
       " price                                              0\n",
       " license                                            0\n",
       " dtype: int64,\n",
       " 'Valores nulos por dataframe',\n",
       " np.int64(20461))"
      ]
     },
     "execution_count": 7,
     "metadata": {},
     "output_type": "execute_result"
    }
   ],
   "source": [
    "df3 = fl.sustitución_string(df)\n",
    "fl.cuenta_valores_nulos(df3)"
   ]
  },
  {
   "cell_type": "markdown",
   "metadata": {},
   "source": [
    "La cuarta función es para rrelenar los datos de tipo númerico con el promedio"
   ]
  },
  {
   "cell_type": "code",
   "execution_count": 8,
   "metadata": {},
   "outputs": [
    {
     "data": {
      "text/plain": [
       "('Valores nulos por columna',\n",
       " Unnamed: 0                                         0\n",
       " id                                                 0\n",
       " host_id                                            0\n",
       " host_listings_count                                0\n",
       " host_total_listings_count                          0\n",
       " latitude                                           0\n",
       " longitude                                          0\n",
       " accommodates                                       0\n",
       " bathrooms                                          0\n",
       " bedrooms                                           0\n",
       " beds                                               0\n",
       " minimum_nights                                     0\n",
       " maximum_nights                                     0\n",
       " minimum_minimum_nights                             0\n",
       " maximum_minimum_nights                             0\n",
       " minimum_maximum_nights                             0\n",
       " maximum_maximum_nights                             0\n",
       " minimum_nights_avg_ntm                             0\n",
       " maximum_nights_avg_ntm                             0\n",
       " availability_30                                    0\n",
       " availability_60                                    0\n",
       " availability_90                                    0\n",
       " availability_365                                   0\n",
       " number_of_reviews                                  0\n",
       " number_of_reviews_ltm                              0\n",
       " number_of_reviews_l30d                             0\n",
       " review_scores_rating                               0\n",
       " review_scores_accuracy                             0\n",
       " review_scores_cleanliness                          0\n",
       " review_scores_checkin                              0\n",
       " review_scores_communication                        0\n",
       " review_scores_location                             0\n",
       " review_scores_value                                0\n",
       " calculated_host_listings_count                     0\n",
       " calculated_host_listings_count_entire_homes        0\n",
       " calculated_host_listings_count_private_rooms       0\n",
       " calculated_host_listings_count_shared_rooms        0\n",
       " reviews_per_month                                  0\n",
       " last_scraped                                       0\n",
       " source                                             0\n",
       " host_response_time                              1739\n",
       " host_response_rate                              1739\n",
       " host_acceptance_rate                             831\n",
       " host_is_superhost                                774\n",
       " host_verifications                                 0\n",
       " neighbourhood                                   6944\n",
       " property_type                                      0\n",
       " room_type                                          0\n",
       " amenities                                          0\n",
       " price                                            920\n",
       " license                                          194\n",
       " dtype: int64,\n",
       " 'Valores nulos por dataframe',\n",
       " np.int64(13141))"
      ]
     },
     "execution_count": 8,
     "metadata": {},
     "output_type": "execute_result"
    }
   ],
   "source": [
    "df4 = fl.sustitución_promedio(df)\n",
    "fl.cuenta_valores_nulos(df4)"
   ]
  },
  {
   "cell_type": "markdown",
   "metadata": {},
   "source": [
    "La quinta función es para rellenar los datos de tipo: 'float64', 'int64','float','int' con la mediana"
   ]
  },
  {
   "cell_type": "code",
   "execution_count": 7,
   "metadata": {},
   "outputs": [
    {
     "data": {
      "text/plain": [
       "('Valores nulos por columna',\n",
       " Unnamed: 0                                         0\n",
       " id                                                 0\n",
       " host_id                                            0\n",
       " host_listings_count                                0\n",
       " host_total_listings_count                          0\n",
       " latitude                                           0\n",
       " longitude                                          0\n",
       " accommodates                                       0\n",
       " bathrooms                                          0\n",
       " bedrooms                                           0\n",
       " beds                                               0\n",
       " minimum_nights                                     0\n",
       " maximum_nights                                     0\n",
       " minimum_minimum_nights                             0\n",
       " maximum_minimum_nights                             0\n",
       " minimum_maximum_nights                             0\n",
       " maximum_maximum_nights                             0\n",
       " minimum_nights_avg_ntm                             0\n",
       " maximum_nights_avg_ntm                             0\n",
       " availability_30                                    0\n",
       " availability_60                                    0\n",
       " availability_90                                    0\n",
       " availability_365                                   0\n",
       " number_of_reviews                                  0\n",
       " number_of_reviews_ltm                              0\n",
       " number_of_reviews_l30d                             0\n",
       " review_scores_rating                               0\n",
       " review_scores_accuracy                             0\n",
       " review_scores_cleanliness                          0\n",
       " review_scores_checkin                              0\n",
       " review_scores_communication                        0\n",
       " review_scores_location                             0\n",
       " review_scores_value                                0\n",
       " calculated_host_listings_count                     0\n",
       " calculated_host_listings_count_entire_homes        0\n",
       " calculated_host_listings_count_private_rooms       0\n",
       " calculated_host_listings_count_shared_rooms        0\n",
       " reviews_per_month                                  0\n",
       " last_scraped                                       0\n",
       " source                                             0\n",
       " host_response_time                              1739\n",
       " host_response_rate                              1739\n",
       " host_acceptance_rate                             831\n",
       " host_is_superhost                                774\n",
       " host_verifications                                 0\n",
       " neighbourhood                                   6944\n",
       " property_type                                      0\n",
       " room_type                                          0\n",
       " amenities                                          0\n",
       " price                                            920\n",
       " license                                          194\n",
       " dtype: int64,\n",
       " 'Valores nulos por dataframe',\n",
       " np.int64(13141))"
      ]
     },
     "execution_count": 7,
     "metadata": {},
     "output_type": "execute_result"
    }
   ],
   "source": [
    "df5 = fl.sustitución_mediana(df)\n",
    "fl.cuenta_valores_nulos(df5)"
   ]
  },
  {
   "cell_type": "markdown",
   "metadata": {},
   "source": [
    "La sexta unción es para eliminar los valores nulos de  los datos de tipo int64"
   ]
  },
  {
   "cell_type": "code",
   "execution_count": 16,
   "metadata": {},
   "outputs": [
    {
     "data": {
      "text/plain": [
       "('Valores nulos por columna',\n",
       " latitude                          0\n",
       " longitude                         0\n",
       " bathrooms                         0\n",
       " bedrooms                          0\n",
       " beds                              0\n",
       " minimum_nights_avg_ntm            0\n",
       " maximum_nights_avg_ntm            0\n",
       " review_scores_rating              0\n",
       " review_scores_accuracy            0\n",
       " review_scores_cleanliness         0\n",
       " review_scores_checkin             0\n",
       " review_scores_communication       0\n",
       " review_scores_location            0\n",
       " review_scores_value               0\n",
       " reviews_per_month                 0\n",
       " last_scraped                      0\n",
       " source                            0\n",
       " host_response_time             1739\n",
       " host_response_rate             1739\n",
       " host_acceptance_rate            831\n",
       " host_is_superhost               774\n",
       " host_verifications                0\n",
       " neighbourhood                  6944\n",
       " property_type                     0\n",
       " room_type                         0\n",
       " amenities                         0\n",
       " price                           920\n",
       " license                         194\n",
       " dtype: int64,\n",
       " 'Valores nulos por dataframe',\n",
       " np.int64(13141))"
      ]
     },
     "execution_count": 16,
     "metadata": {},
     "output_type": "execute_result"
    }
   ],
   "source": [
    "df6 = fl.sustitución_int(df)\n",
    "fl.cuenta_valores_nulos(df6)"
   ]
  },
  {
   "cell_type": "markdown",
   "metadata": {},
   "source": [
    "## Más específico"
   ]
  },
  {
   "cell_type": "markdown",
   "metadata": {},
   "source": [
    "Seé le pide al usuario que llame a la función y dentro de los parametros meta el dataframe y la columna a limpiar, solo se aceptan columans de tipo númerico porque rellena con el promedio"
   ]
  },
  {
   "cell_type": "code",
   "execution_count": 12,
   "metadata": {},
   "outputs": [
    {
     "data": {
      "text/plain": [
       "('Valores nulos por columna',\n",
       " Unnamed: 0                                         0\n",
       " id                                                 0\n",
       " last_scraped                                       0\n",
       " source                                             0\n",
       " host_id                                            0\n",
       " host_response_time                              1739\n",
       " host_response_rate                              1739\n",
       " host_acceptance_rate                             831\n",
       " host_is_superhost                                774\n",
       " host_listings_count                                0\n",
       " host_total_listings_count                          0\n",
       " host_verifications                                 0\n",
       " neighbourhood                                   6944\n",
       " latitude                                           0\n",
       " longitude                                          0\n",
       " property_type                                      0\n",
       " room_type                                          0\n",
       " accommodates                                       0\n",
       " bathrooms                                          0\n",
       " bedrooms                                          83\n",
       " beds                                             949\n",
       " amenities                                          0\n",
       " price                                            920\n",
       " minimum_nights                                     0\n",
       " maximum_nights                                     0\n",
       " minimum_minimum_nights                             0\n",
       " maximum_minimum_nights                             0\n",
       " minimum_maximum_nights                             0\n",
       " maximum_maximum_nights                             0\n",
       " minimum_nights_avg_ntm                             0\n",
       " maximum_nights_avg_ntm                             0\n",
       " availability_30                                    0\n",
       " availability_60                                    0\n",
       " availability_90                                    0\n",
       " availability_365                                   0\n",
       " number_of_reviews                                  0\n",
       " number_of_reviews_ltm                              0\n",
       " number_of_reviews_l30d                             0\n",
       " review_scores_rating                            2313\n",
       " review_scores_accuracy                          2313\n",
       " review_scores_cleanliness                       2313\n",
       " review_scores_checkin                           2313\n",
       " review_scores_communication                     2313\n",
       " review_scores_location                          2313\n",
       " review_scores_value                             2313\n",
       " license                                          194\n",
       " calculated_host_listings_count                     0\n",
       " calculated_host_listings_count_entire_homes        0\n",
       " calculated_host_listings_count_private_rooms       0\n",
       " calculated_host_listings_count_shared_rooms        0\n",
       " reviews_per_month                               2313\n",
       " dtype: int64,\n",
       " 'Valores nulos por dataframe',\n",
       " np.int64(32677))"
      ]
     },
     "execution_count": 12,
     "metadata": {},
     "output_type": "execute_result"
    }
   ],
   "source": [
    "df7 = fl.fill_numeric(df,'bathrooms')\n",
    "fl.cuenta_valores_nulos(df7)"
   ]
  },
  {
   "cell_type": "markdown",
   "metadata": {},
   "source": [
    "## Sus. completa"
   ]
  },
  {
   "cell_type": "markdown",
   "metadata": {},
   "source": [
    "se sustituyen todo los valores ya sean de tipo cantitativo o númerico, puesto que, se rellenan con fillna strings (cualitativo) o constantes (0000)"
   ]
  },
  {
   "cell_type": "code",
   "execution_count": 6,
   "metadata": {},
   "outputs": [
    {
     "data": {
      "text/plain": [
       "('Valores nulos por columna',\n",
       " Unnamed: 0                                      0\n",
       " id                                              0\n",
       " host_id                                         0\n",
       " host_listings_count                             0\n",
       " host_total_listings_count                       0\n",
       " latitude                                        0\n",
       " longitude                                       0\n",
       " accommodates                                    0\n",
       " bathrooms                                       0\n",
       " bedrooms                                        0\n",
       " beds                                            0\n",
       " minimum_nights                                  0\n",
       " maximum_nights                                  0\n",
       " minimum_minimum_nights                          0\n",
       " maximum_minimum_nights                          0\n",
       " minimum_maximum_nights                          0\n",
       " maximum_maximum_nights                          0\n",
       " minimum_nights_avg_ntm                          0\n",
       " maximum_nights_avg_ntm                          0\n",
       " availability_30                                 0\n",
       " availability_60                                 0\n",
       " availability_90                                 0\n",
       " availability_365                                0\n",
       " number_of_reviews                               0\n",
       " number_of_reviews_ltm                           0\n",
       " number_of_reviews_l30d                          0\n",
       " review_scores_rating                            0\n",
       " review_scores_accuracy                          0\n",
       " review_scores_cleanliness                       0\n",
       " review_scores_checkin                           0\n",
       " review_scores_communication                     0\n",
       " review_scores_location                          0\n",
       " review_scores_value                             0\n",
       " calculated_host_listings_count                  0\n",
       " calculated_host_listings_count_entire_homes     0\n",
       " calculated_host_listings_count_private_rooms    0\n",
       " calculated_host_listings_count_shared_rooms     0\n",
       " reviews_per_month                               0\n",
       " last_scraped                                    0\n",
       " source                                          0\n",
       " host_response_time                              0\n",
       " host_response_rate                              0\n",
       " host_acceptance_rate                            0\n",
       " host_is_superhost                               0\n",
       " host_verifications                              0\n",
       " neighbourhood                                   0\n",
       " property_type                                   0\n",
       " room_type                                       0\n",
       " amenities                                       0\n",
       " price                                           0\n",
       " license                                         0\n",
       " dtype: int64,\n",
       " 'Valores nulos por dataframe',\n",
       " np.int64(0))"
      ]
     },
     "execution_count": 6,
     "metadata": {},
     "output_type": "execute_result"
    }
   ],
   "source": [
    "df8 = fl.sustitución_completa(df)\n",
    "fl.cuenta_valores_nulos(df8)"
   ]
  }
 ],
 "metadata": {
  "kernelspec": {
   "display_name": "Python 3",
   "language": "python",
   "name": "python3"
  },
  "language_info": {
   "codemirror_mode": {
    "name": "ipython",
    "version": 3
   },
   "file_extension": ".py",
   "mimetype": "text/x-python",
   "name": "python",
   "nbconvert_exporter": "python",
   "pygments_lexer": "ipython3",
   "version": "3.13.2"
  }
 },
 "nbformat": 4,
 "nbformat_minor": 2
}
